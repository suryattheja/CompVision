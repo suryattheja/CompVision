{
 "cells": [
  {
   "cell_type": "code",
   "execution_count": 37,
   "metadata": {
    "collapsed": true
   },
   "outputs": [],
   "source": [
    "import matplotlib.pyplot as plt"
   ]
  },
  {
   "cell_type": "markdown",
   "metadata": {
    "collapsed": true
   },
   "source": [
    "## Introduction:\n",
    "You can use this ipython notebook as a template for the rest of the homework."
   ]
  },
  {
   "cell_type": "markdown",
   "metadata": {},
   "source": [
    "### 0. Basic Useful Setups:"
   ]
  },
  {
   "cell_type": "code",
   "execution_count": 18,
   "metadata": {},
   "outputs": [
    {
     "name": "stdout",
     "output_type": "stream",
     "text": [
      "The autoreload extension is already loaded. To reload it, use:\n",
      "  %reload_ext autoreload\n"
     ]
    }
   ],
   "source": [
    "### Basic setups\n",
    "import sys\n",
    "sys.path.append('./models/')\n",
    "# Enable automatic reload of libraries\n",
    "%load_ext autoreload\n",
    "# All modules are reloaded before every comment\n",
    "%autoreload 2\n",
    "import keras"
   ]
  },
  {
   "cell_type": "markdown",
   "metadata": {},
   "source": [
    "### 1. Read MNIST using Keras"
   ]
  },
  {
   "cell_type": "code",
   "execution_count": 22,
   "metadata": {},
   "outputs": [
    {
     "name": "stdout",
     "output_type": "stream",
     "text": [
      "Downloading data from https://s3.amazonaws.com/img-datasets/mnist.npz\n",
      "11493376/11490434 [==============================] - 2s 0us/step\n",
      "11501568/11490434 [==============================] - 2s 0us/step\n",
      "('x_train shape:', (60000, 28, 28, 1))\n",
      "(60000, 'train samples')\n",
      "(10000, 'test samples')\n"
     ]
    }
   ],
   "source": [
    "from util import load_mnist\n",
    "(x_train, y_train), (x_test, y_test) = load_mnist()"
   ]
  },
  {
   "cell_type": "markdown",
   "metadata": {},
   "source": [
    "### 1. Load LetNet Model"
   ]
  },
  {
   "cell_type": "code",
   "execution_count": 35,
   "metadata": {
    "collapsed": true
   },
   "outputs": [],
   "source": [
    "from keras.utils.vis_utils import plot_model # can be used to plot the model into a png file.\n",
    "from LeNet import LeNet\n"
   ]
  },
  {
   "cell_type": "code",
   "execution_count": null,
   "metadata": {
    "collapsed": true
   },
   "outputs": [],
   "source": [
    "NUM_CLASSES = 10\n",
    "model = LeNet(num_classes = NUM_CLASSES)\n",
    "model.compile(loss=keras.losses.categorical_crossentropy,\n",
    "              optimizer=keras.optimizers.Adadelta(),\n",
    "              metrics=['accuracy'])\n",
    "# You can save the model by specifying a path\n",
    "# modelPath = ____\n",
    "# model.save(modelPath)\n",
    "\n",
    "# You can also print out the model by typing\n",
    "model.summary()\n",
    "\n",
    "# You can plot the model into a png file and use it in your report.\n",
    "# pngModelPath = _____\n",
    "# plot(model, to_file=pngModelPath, show_shapes=True)"
   ]
  },
  {
   "cell_type": "markdown",
   "metadata": {},
   "source": [
    "### 2. Train and Evaluate LeNet Model"
   ]
  },
  {
   "cell_type": "code",
   "execution_count": 55,
   "metadata": {},
   "outputs": [
    {
     "data": {
      "image/svg+xml": [
       "<svg height=\"556pt\" viewBox=\"0.00 0.00 184.00 556.00\" width=\"184pt\" xmlns=\"http://www.w3.org/2000/svg\" xmlns:xlink=\"http://www.w3.org/1999/xlink\">\n",
       "<g class=\"graph\" id=\"graph0\" transform=\"scale(1 1) rotate(0) translate(4 552)\">\n",
       "<title>G</title>\n",
       "<polygon fill=\"#ffffff\" points=\"-4,4 -4,-552 180,-552 180,4 -4,4\" stroke=\"transparent\"/>\n",
       "<!-- 140521468158736 -->\n",
       "<g class=\"node\" id=\"node1\">\n",
       "<title>140521468158736</title>\n",
       "<polygon fill=\"none\" points=\"22,-511.5 22,-547.5 154,-547.5 154,-511.5 22,-511.5\" stroke=\"#000000\"/>\n",
       "<text fill=\"#000000\" font-family=\"Times,serif\" font-size=\"14.00\" text-anchor=\"middle\" x=\"88\" y=\"-525.8\">input_13: InputLayer</text>\n",
       "</g>\n",
       "<!-- 140521468159184 -->\n",
       "<g class=\"node\" id=\"node2\">\n",
       "<title>140521468159184</title>\n",
       "<polygon fill=\"none\" points=\"15,-438.5 15,-474.5 161,-474.5 161,-438.5 15,-438.5\" stroke=\"#000000\"/>\n",
       "<text fill=\"#000000\" font-family=\"Times,serif\" font-size=\"14.00\" text-anchor=\"middle\" x=\"88\" y=\"-452.8\">block1_conv1: Conv2D</text>\n",
       "</g>\n",
       "<!-- 140521468158736&#45;&gt;140521468159184 -->\n",
       "<g class=\"edge\" id=\"edge1\">\n",
       "<title>140521468158736-&gt;140521468159184</title>\n",
       "<path d=\"M88,-511.4551C88,-503.3828 88,-493.6764 88,-484.6817\" fill=\"none\" stroke=\"#000000\"/>\n",
       "<polygon fill=\"#000000\" points=\"91.5001,-484.5903 88,-474.5904 84.5001,-484.5904 91.5001,-484.5903\" stroke=\"#000000\"/>\n",
       "</g>\n",
       "<!-- 140520257842576 -->\n",
       "<g class=\"node\" id=\"node3\">\n",
       "<title>140520257842576</title>\n",
       "<polygon fill=\"none\" points=\"0,-365.5 0,-401.5 176,-401.5 176,-365.5 0,-365.5\" stroke=\"#000000\"/>\n",
       "<text fill=\"#000000\" font-family=\"Times,serif\" font-size=\"14.00\" text-anchor=\"middle\" x=\"88\" y=\"-379.8\">block1_pool: MaxPooling2D</text>\n",
       "</g>\n",
       "<!-- 140521468159184&#45;&gt;140520257842576 -->\n",
       "<g class=\"edge\" id=\"edge2\">\n",
       "<title>140521468159184-&gt;140520257842576</title>\n",
       "<path d=\"M88,-438.4551C88,-430.3828 88,-420.6764 88,-411.6817\" fill=\"none\" stroke=\"#000000\"/>\n",
       "<polygon fill=\"#000000\" points=\"91.5001,-411.5903 88,-401.5904 84.5001,-411.5904 91.5001,-411.5903\" stroke=\"#000000\"/>\n",
       "</g>\n",
       "<!-- 140521468158224 -->\n",
       "<g class=\"node\" id=\"node4\">\n",
       "<title>140521468158224</title>\n",
       "<polygon fill=\"none\" points=\"15,-292.5 15,-328.5 161,-328.5 161,-292.5 15,-292.5\" stroke=\"#000000\"/>\n",
       "<text fill=\"#000000\" font-family=\"Times,serif\" font-size=\"14.00\" text-anchor=\"middle\" x=\"88\" y=\"-306.8\">block2_conv2: Conv2D</text>\n",
       "</g>\n",
       "<!-- 140520257842576&#45;&gt;140521468158224 -->\n",
       "<g class=\"edge\" id=\"edge3\">\n",
       "<title>140520257842576-&gt;140521468158224</title>\n",
       "<path d=\"M88,-365.4551C88,-357.3828 88,-347.6764 88,-338.6817\" fill=\"none\" stroke=\"#000000\"/>\n",
       "<polygon fill=\"#000000\" points=\"91.5001,-338.5903 88,-328.5904 84.5001,-338.5904 91.5001,-338.5903\" stroke=\"#000000\"/>\n",
       "</g>\n",
       "<!-- 140521468158800 -->\n",
       "<g class=\"node\" id=\"node5\">\n",
       "<title>140521468158800</title>\n",
       "<polygon fill=\"none\" points=\"0,-219.5 0,-255.5 176,-255.5 176,-219.5 0,-219.5\" stroke=\"#000000\"/>\n",
       "<text fill=\"#000000\" font-family=\"Times,serif\" font-size=\"14.00\" text-anchor=\"middle\" x=\"88\" y=\"-233.8\">block2_pool: MaxPooling2D</text>\n",
       "</g>\n",
       "<!-- 140521468158224&#45;&gt;140521468158800 -->\n",
       "<g class=\"edge\" id=\"edge4\">\n",
       "<title>140521468158224-&gt;140521468158800</title>\n",
       "<path d=\"M88,-292.4551C88,-284.3828 88,-274.6764 88,-265.6817\" fill=\"none\" stroke=\"#000000\"/>\n",
       "<polygon fill=\"#000000\" points=\"91.5001,-265.5903 88,-255.5904 84.5001,-265.5904 91.5001,-265.5903\" stroke=\"#000000\"/>\n",
       "</g>\n",
       "<!-- 140520257901840 -->\n",
       "<g class=\"node\" id=\"node6\">\n",
       "<title>140520257901840</title>\n",
       "<polygon fill=\"none\" points=\"40,-146.5 40,-182.5 136,-182.5 136,-146.5 40,-146.5\" stroke=\"#000000\"/>\n",
       "<text fill=\"#000000\" font-family=\"Times,serif\" font-size=\"14.00\" text-anchor=\"middle\" x=\"88\" y=\"-160.8\">flatten: Flatten</text>\n",
       "</g>\n",
       "<!-- 140521468158800&#45;&gt;140520257901840 -->\n",
       "<g class=\"edge\" id=\"edge5\">\n",
       "<title>140521468158800-&gt;140520257901840</title>\n",
       "<path d=\"M88,-219.4551C88,-211.3828 88,-201.6764 88,-192.6817\" fill=\"none\" stroke=\"#000000\"/>\n",
       "<polygon fill=\"#000000\" points=\"91.5001,-192.5903 88,-182.5904 84.5001,-192.5904 91.5001,-192.5903\" stroke=\"#000000\"/>\n",
       "</g>\n",
       "<!-- 140520257972816 -->\n",
       "<g class=\"node\" id=\"node7\">\n",
       "<title>140520257972816</title>\n",
       "<polygon fill=\"none\" points=\"50.5,-73.5 50.5,-109.5 125.5,-109.5 125.5,-73.5 50.5,-73.5\" stroke=\"#000000\"/>\n",
       "<text fill=\"#000000\" font-family=\"Times,serif\" font-size=\"14.00\" text-anchor=\"middle\" x=\"88\" y=\"-87.8\">fc1: Dense</text>\n",
       "</g>\n",
       "<!-- 140520257901840&#45;&gt;140520257972816 -->\n",
       "<g class=\"edge\" id=\"edge6\">\n",
       "<title>140520257901840-&gt;140520257972816</title>\n",
       "<path d=\"M88,-146.4551C88,-138.3828 88,-128.6764 88,-119.6817\" fill=\"none\" stroke=\"#000000\"/>\n",
       "<polygon fill=\"#000000\" points=\"91.5001,-119.5903 88,-109.5904 84.5001,-119.5904 91.5001,-119.5903\" stroke=\"#000000\"/>\n",
       "</g>\n",
       "<!-- 140520257606992 -->\n",
       "<g class=\"node\" id=\"node8\">\n",
       "<title>140520257606992</title>\n",
       "<polygon fill=\"none\" points=\"26,-.5 26,-36.5 150,-36.5 150,-.5 26,-.5\" stroke=\"#000000\"/>\n",
       "<text fill=\"#000000\" font-family=\"Times,serif\" font-size=\"14.00\" text-anchor=\"middle\" x=\"88\" y=\"-14.8\">predications: Dense</text>\n",
       "</g>\n",
       "<!-- 140520257972816&#45;&gt;140520257606992 -->\n",
       "<g class=\"edge\" id=\"edge7\">\n",
       "<title>140520257972816-&gt;140520257606992</title>\n",
       "<path d=\"M88,-73.4551C88,-65.3828 88,-55.6764 88,-46.6817\" fill=\"none\" stroke=\"#000000\"/>\n",
       "<polygon fill=\"#000000\" points=\"91.5001,-46.5903 88,-36.5904 84.5001,-46.5904 91.5001,-46.5903\" stroke=\"#000000\"/>\n",
       "</g>\n",
       "</g>\n",
       "</svg>"
      ],
      "text/plain": [
       "<IPython.core.display.SVG object>"
      ]
     },
     "execution_count": 55,
     "metadata": {},
     "output_type": "execute_result"
    }
   ],
   "source": [
    "from IPython.display import SVG\n",
    "from keras.utils.vis_utils import model_to_dot\n",
    "\n",
    "SVG(model_to_dot(model).create(prog='dot', format='svg'))"
   ]
  },
  {
   "cell_type": "code",
   "execution_count": 56,
   "metadata": {},
   "outputs": [
    {
     "name": "stdout",
     "output_type": "stream",
     "text": [
      "Train on 60000 samples, validate on 10000 samples\n",
      "Epoch 1/12\n",
      "60000/60000 [==============================] - 4s 68us/step - loss: 0.1774 - acc: 0.9447 - val_loss: 0.0481 - val_acc: 0.9845\n",
      "Epoch 2/12\n",
      "60000/60000 [==============================] - 3s 55us/step - loss: 0.0438 - acc: 0.9863 - val_loss: 0.0395 - val_acc: 0.9871\n",
      "Epoch 3/12\n",
      "60000/60000 [==============================] - 3s 56us/step - loss: 0.0294 - acc: 0.9909 - val_loss: 0.0300 - val_acc: 0.9894\n",
      "Epoch 4/12\n",
      "60000/60000 [==============================] - 3s 54us/step - loss: 0.0203 - acc: 0.9936 - val_loss: 0.0334 - val_acc: 0.9895\n",
      "Epoch 5/12\n",
      "60000/60000 [==============================] - 3s 54us/step - loss: 0.0151 - acc: 0.9957 - val_loss: 0.0314 - val_acc: 0.9893\n",
      "Epoch 6/12\n",
      "60000/60000 [==============================] - 3s 58us/step - loss: 0.0111 - acc: 0.9966 - val_loss: 0.0246 - val_acc: 0.9925\n",
      "Epoch 7/12\n",
      "60000/60000 [==============================] - 4s 59us/step - loss: 0.0086 - acc: 0.9972 - val_loss: 0.0237 - val_acc: 0.9928\n",
      "Epoch 8/12\n",
      "60000/60000 [==============================] - 4s 60us/step - loss: 0.0060 - acc: 0.9984 - val_loss: 0.0283 - val_acc: 0.9916\n",
      "Epoch 9/12\n",
      "60000/60000 [==============================] - 3s 56us/step - loss: 0.0054 - acc: 0.9983 - val_loss: 0.0303 - val_acc: 0.9915\n",
      "Epoch 10/12\n",
      "60000/60000 [==============================] - 3s 57us/step - loss: 0.0036 - acc: 0.9991 - val_loss: 0.0270 - val_acc: 0.9925\n",
      "Epoch 11/12\n",
      "60000/60000 [==============================] - 3s 56us/step - loss: 0.0027 - acc: 0.9993 - val_loss: 0.0275 - val_acc: 0.9927\n",
      "Epoch 12/12\n",
      "60000/60000 [==============================] - 3s 53us/step - loss: 0.0025 - acc: 0.9992 - val_loss: 0.0337 - val_acc: 0.9915\n",
      "('Test loss:', 0.03367709964651631)\n",
      "('Test accuracy:', 0.9915)\n"
     ]
    }
   ],
   "source": [
    "# train model\n",
    "BATCH_SIZE = 128\n",
    "MAX_EPOCH = 12\n",
    "\n",
    "histroy=model.fit(x_train, y_train,\n",
    "          batch_size=BATCH_SIZE,\n",
    "          epochs=MAX_EPOCH,\n",
    "          verbose=1,\n",
    "          validation_data=(x_test, y_test))\n",
    "score = model.evaluate(x_test, y_test, verbose=0)\n",
    "print('Test loss:', score[0])\n",
    "print('Test accuracy:', score[1])"
   ]
  },
  {
   "cell_type": "code",
   "execution_count": 61,
   "metadata": {},
   "outputs": [
    {
     "data": {
      "text/plain": [
       "['acc', 'loss', 'val_acc', 'val_loss']"
      ]
     },
     "execution_count": 61,
     "metadata": {},
     "output_type": "execute_result"
    }
   ],
   "source": [
    "model.history.history.keys()"
   ]
  },
  {
   "cell_type": "code",
   "execution_count": null,
   "metadata": {
    "collapsed": true
   },
   "outputs": [],
   "source": [
    "plt.plot(model.history.history['loss'])\n",
    "plt.xlabel('Epoch')\n",
    "plt.ylabel('Training loss')"
   ]
  },
  {
   "cell_type": "code",
   "execution_count": null,
   "metadata": {
    "collapsed": true
   },
   "outputs": [],
   "source": [
    "plt.plot(model.history.history[''])\n",
    "plt.xlabel('Epoch')\n",
    "plt.ylabel('Test loss')"
   ]
  },
  {
   "cell_type": "markdown",
   "metadata": {},
   "source": [
    "('Test loss:', 0.03134940225539128)\n",
    "model.compile(loss=keras.losses.categorical_crossentropy,\n",
    "              optimizer=keras.optimizers.Adadelta(),\n",
    "              metrics=['accuracy'])\n",
    "('Test accuracy:', 0.9936)"
   ]
  },
  {
   "cell_type": "markdown",
   "metadata": {},
   "source": [
    "<b>Architecture 2</b>"
   ]
  },
  {
   "cell_type": "code",
   "execution_count": 43,
   "metadata": {
    "scrolled": true
   },
   "outputs": [
    {
     "name": "stdout",
     "output_type": "stream",
     "text": [
      "_________________________________________________________________\n",
      "Layer (type)                 Output Shape              Param #   \n",
      "=================================================================\n",
      "input_3 (InputLayer)         (None, 28, 28, 1)         0         \n",
      "_________________________________________________________________\n",
      "block1_conv1 (Conv2D)        (None, 28, 28, 20)        520       \n",
      "_________________________________________________________________\n",
      "block1_pool (MaxPooling2D)   (None, 14, 14, 20)        0         \n",
      "_________________________________________________________________\n",
      "block2_conv2 (Conv2D)        (None, 14, 14, 50)        25050     \n",
      "_________________________________________________________________\n",
      "block2_pool (MaxPooling2D)   (None, 7, 7, 50)          0         \n",
      "_________________________________________________________________\n",
      "flatten (Flatten)            (None, 2450)              0         \n",
      "_________________________________________________________________\n",
      "fc1 (Dense)                  (None, 500)               1225500   \n",
      "_________________________________________________________________\n",
      "predications (Dense)         (None, 10)                5010      \n",
      "=================================================================\n",
      "Total params: 1,256,080\n",
      "Trainable params: 1,256,080\n",
      "Non-trainable params: 0\n",
      "_________________________________________________________________\n",
      "Train on 60000 samples, validate on 10000 samples\n",
      "Epoch 1/20\n",
      "60000/60000 [==============================] - 2s 34us/step - loss: 0.4574 - acc: 0.8628 - val_loss: 0.3558 - val_acc: 0.8826\n",
      "Epoch 2/20\n",
      "60000/60000 [==============================] - 2s 27us/step - loss: 0.0934 - acc: 0.9723 - val_loss: 0.1209 - val_acc: 0.9608\n",
      "Epoch 3/20\n",
      "60000/60000 [==============================] - 2s 27us/step - loss: 0.0598 - acc: 0.9817 - val_loss: 0.0997 - val_acc: 0.9671\n",
      "Epoch 4/20\n",
      "60000/60000 [==============================] - 2s 27us/step - loss: 0.0436 - acc: 0.9867 - val_loss: 0.0596 - val_acc: 0.9806\n",
      "Epoch 5/20\n",
      "60000/60000 [==============================] - 2s 27us/step - loss: 0.0365 - acc: 0.9885 - val_loss: 0.1029 - val_acc: 0.9660\n",
      "Epoch 6/20\n",
      "60000/60000 [==============================] - 2s 26us/step - loss: 0.0293 - acc: 0.9911 - val_loss: 0.0466 - val_acc: 0.9842\n",
      "Epoch 7/20\n",
      "60000/60000 [==============================] - 2s 26us/step - loss: 0.0234 - acc: 0.9927 - val_loss: 0.0290 - val_acc: 0.9893\n",
      "Epoch 8/20\n",
      "60000/60000 [==============================] - 2s 26us/step - loss: 0.0199 - acc: 0.9935 - val_loss: 0.0308 - val_acc: 0.9895\n",
      "Epoch 9/20\n",
      "60000/60000 [==============================] - 2s 26us/step - loss: 0.0166 - acc: 0.9948 - val_loss: 0.0317 - val_acc: 0.9887\n",
      "Epoch 10/20\n",
      "60000/60000 [==============================] - 2s 27us/step - loss: 0.0125 - acc: 0.9961 - val_loss: 0.0406 - val_acc: 0.9862\n",
      "Epoch 11/20\n",
      "60000/60000 [==============================] - 2s 26us/step - loss: 0.0116 - acc: 0.9963 - val_loss: 0.0302 - val_acc: 0.9905\n",
      "Epoch 12/20\n",
      "60000/60000 [==============================] - 2s 26us/step - loss: 0.0092 - acc: 0.9975 - val_loss: 0.0228 - val_acc: 0.9925\n",
      "Epoch 13/20\n",
      "60000/60000 [==============================] - 2s 26us/step - loss: 0.0080 - acc: 0.9976 - val_loss: 0.0240 - val_acc: 0.9914\n",
      "Epoch 14/20\n",
      "60000/60000 [==============================] - 2s 26us/step - loss: 0.0064 - acc: 0.9980 - val_loss: 0.0590 - val_acc: 0.9841\n",
      "Epoch 15/20\n",
      "60000/60000 [==============================] - 2s 26us/step - loss: 0.0058 - acc: 0.9983 - val_loss: 0.0242 - val_acc: 0.9922\n",
      "Epoch 16/20\n",
      "60000/60000 [==============================] - 2s 26us/step - loss: 0.0048 - acc: 0.9987 - val_loss: 0.0278 - val_acc: 0.9917\n",
      "Epoch 17/20\n",
      "60000/60000 [==============================] - 2s 26us/step - loss: 0.0033 - acc: 0.9992 - val_loss: 0.0262 - val_acc: 0.9917\n",
      "Epoch 18/20\n",
      "60000/60000 [==============================] - 2s 25us/step - loss: 0.0026 - acc: 0.9993 - val_loss: 0.0270 - val_acc: 0.9921\n",
      "Epoch 19/20\n",
      "60000/60000 [==============================] - 2s 26us/step - loss: 0.0029 - acc: 0.9994 - val_loss: 0.0249 - val_acc: 0.9928\n",
      "Epoch 20/20\n",
      "60000/60000 [==============================] - 2s 27us/step - loss: 0.0021 - acc: 0.9996 - val_loss: 0.0283 - val_acc: 0.9921\n",
      "('Test loss:', 0.02825609033366609)\n",
      "('Test accuracy:', 0.9921)\n"
     ]
    }
   ],
   "source": [
    "NUM_CLASSES = 10\n",
    "model = LeNet(num_classes = NUM_CLASSES)\n",
    "model.compile(loss=keras.losses.categorical_crossentropy,\n",
    "              optimizer=keras.optimizers.Adadelta(),\n",
    "              metrics=['accuracy'])\n",
    "# You can save the model by specifying a path\n",
    "# modelPath = ____\n",
    "# model.save(modelPath)\n",
    "\n",
    "# You can also print out the model by typing\n",
    "model.summary()\n",
    "\n",
    "# train model\n",
    "BATCH_SIZE = 512\n",
    "MAX_EPOCH = 20\n",
    "\n",
    "histroy=model.fit(x_train, y_train,\n",
    "          batch_size=BATCH_SIZE,\n",
    "          epochs=MAX_EPOCH,\n",
    "          verbose=1,\n",
    "          validation_data=(x_test, y_test))\n",
    "score = model.evaluate(x_test, y_test, verbose=0)\n",
    "print('Test loss:', score[0])\n",
    "print('Test accuracy:', score[1])\n",
    "\n",
    "# You can plot the model into a png file and use it in your report.\n",
    "# pngModelPath = _____\n",
    "# plot(model, to_file=pngModelPath, show_shapes=True)"
   ]
  },
  {
   "cell_type": "markdown",
   "metadata": {},
   "source": [
    "<b>Using SGD</b>"
   ]
  },
  {
   "cell_type": "code",
   "execution_count": 46,
   "metadata": {
    "collapsed": true
   },
   "outputs": [],
   "source": [
    "from keras import optimizers"
   ]
  },
  {
   "cell_type": "code",
   "execution_count": null,
   "metadata": {
    "collapsed": true
   },
   "outputs": [],
   "source": [
    "\n",
    "NUM_CLASSES = 10\n",
    "model = LeNet(num_classes = NUM_CLASSES)\n",
    "# You can save the model by specifying a path\n",
    "# modelPath = ____\n",
    "# model.save(modelPath)\n",
    "\n",
    "# You can also print out the model by typing\n",
    "model.summary()\n",
    "\n",
    "# train model\n",
    "BATCH_SIZE = 512\n",
    "MAX_EPOCH = 40\n",
    "sgd = optimizers.SGD(lr=0.01, decay=1e-6, momentum=0.9, nesterov=True)\n",
    "model.compile(loss='mean_squared_error', optimizer=sgd, metrics=['accuracy'])\n",
    "histroy=model.fit(x_train, y_train,\n",
    "          batch_size=BATCH_SIZE,\n",
    "          epochs=MAX_EPOCH,\n",
    "          verbose=1,\n",
    "          validation_data=(x_test, y_test))\n",
    "score = model.evaluate(x_test, y_test, verbose=0)\n",
    "print('Test loss:', score[0])\n",
    "print('Test accuracy:', score[1])\n",
    "\n",
    "# You can plot the model into a png file and use it in your report.\n",
    "# pngModelPath = _____\n",
    "# plot(model, to_file=pngModelPath, show_shapes=True)\n"
   ]
  },
  {
   "cell_type": "markdown",
   "metadata": {},
   "source": [
    "<b>Optimizer RMS Prop</b>"
   ]
  },
  {
   "cell_type": "code",
   "execution_count": null,
   "metadata": {
    "collapsed": true
   },
   "outputs": [],
   "source": [
    "keras.optimizers.RMSprop(lr=0.001, rho=0.9, epsilon=None, decay=0.0)"
   ]
  },
  {
   "cell_type": "code",
   "execution_count": null,
   "metadata": {
    "collapsed": true
   },
   "outputs": [],
   "source": [
    "NUM_CLASSES = 10\n",
    "model = LeNet(num_classes = NUM_CLASSES)\n",
    "model.compile(loss=keras.losses.categorical_crossentropy,\n",
    "              optimizer=keras.optimizers.RMSprop(lr=0.001, rho=0.9, epsilon=None, decay=0.0),\n",
    "              metrics=['accuracy'])\n",
    "# You can save the model by specifying a path\n",
    "# modelPath = ____\n",
    "# model.save(modelPath)\n",
    "\n",
    "# You can also print out the model by typing\n",
    "model.summary()\n",
    "\n",
    "# train model\n",
    "BATCH_SIZE = 512\n",
    "MAX_EPOCH = 20\n",
    "\n",
    "histroy=model.fit(x_train, y_train,\n",
    "          batch_size=BATCH_SIZE,\n",
    "          epochs=MAX_EPOCH,\n",
    "          verbose=1,\n",
    "          validation_data=(x_test, y_test))\n",
    "score = model.evaluate(x_test, y_test, verbose=0)\n",
    "print('Test loss:', score[0])\n",
    "print('Test accuracy:', score[1])\n",
    "\n",
    "# You can plot the model into a png file and use it in your report.\n",
    "# pngModelPath = _____\n",
    "# plot(model, to_file=pngModelPath, show_shapes=True)"
   ]
  },
  {
   "cell_type": "code",
   "execution_count": 52,
   "metadata": {},
   "outputs": [
    {
     "name": "stdout",
     "output_type": "stream",
     "text": [
      "_________________________________________________________________\n",
      "Layer (type)                 Output Shape              Param #   \n",
      "=================================================================\n",
      "input_11 (InputLayer)        (None, 28, 28, 1)         0         \n",
      "_________________________________________________________________\n",
      "block1_conv1 (Conv2D)        (None, 28, 28, 20)        520       \n",
      "_________________________________________________________________\n",
      "block1_pool (MaxPooling2D)   (None, 14, 14, 20)        0         \n",
      "_________________________________________________________________\n",
      "block2_conv2 (Conv2D)        (None, 14, 14, 50)        25050     \n",
      "_________________________________________________________________\n",
      "block2_pool (MaxPooling2D)   (None, 7, 7, 50)          0         \n",
      "_________________________________________________________________\n",
      "flatten (Flatten)            (None, 2450)              0         \n",
      "_________________________________________________________________\n",
      "fc1 (Dense)                  (None, 500)               1225500   \n",
      "_________________________________________________________________\n",
      "predications (Dense)         (None, 10)                5010      \n",
      "=================================================================\n",
      "Total params: 1,256,080\n",
      "Trainable params: 1,256,080\n",
      "Non-trainable params: 0\n",
      "_________________________________________________________________\n",
      "Train on 60000 samples, validate on 10000 samples\n",
      "Epoch 1/40\n",
      "60000/60000 [==============================] - 2s 31us/step - loss: 0.1796 - acc: 0.1154 - val_loss: 0.1791 - val_acc: 0.1687\n",
      "Epoch 2/40\n",
      "60000/60000 [==============================] - 1s 24us/step - loss: 0.1785 - acc: 0.1791 - val_loss: 0.1777 - val_acc: 0.1849\n",
      "Epoch 3/40\n",
      "60000/60000 [==============================] - 1s 24us/step - loss: 0.1763 - acc: 0.1633 - val_loss: 0.1740 - val_acc: 0.1311\n",
      "Epoch 4/40\n",
      "60000/60000 [==============================] - 1s 24us/step - loss: 0.1677 - acc: 0.1827 - val_loss: 0.1571 - val_acc: 0.4444\n",
      "Epoch 5/40\n",
      "60000/60000 [==============================] - 1s 24us/step - loss: 0.1205 - acc: 0.6057 - val_loss: 0.0830 - val_acc: 0.6546\n",
      "Epoch 6/40\n",
      "60000/60000 [==============================] - 1s 24us/step - loss: 0.0768 - acc: 0.6581 - val_loss: 0.0717 - val_acc: 0.6685\n",
      "Epoch 7/40\n",
      "60000/60000 [==============================] - 1s 24us/step - loss: 0.0679 - acc: 0.6893 - val_loss: 0.0589 - val_acc: 0.7388\n",
      "Epoch 8/40\n",
      "60000/60000 [==============================] - 1s 24us/step - loss: 0.0568 - acc: 0.7438 - val_loss: 0.0538 - val_acc: 0.7548\n",
      "Epoch 9/40\n",
      "60000/60000 [==============================] - 1s 24us/step - loss: 0.0535 - acc: 0.7528 - val_loss: 0.0517 - val_acc: 0.7590\n",
      "Epoch 10/40\n",
      "60000/60000 [==============================] - 1s 24us/step - loss: 0.0517 - acc: 0.7571 - val_loss: 0.0506 - val_acc: 0.7624\n",
      "Epoch 11/40\n",
      "60000/60000 [==============================] - 1s 24us/step - loss: 0.0506 - acc: 0.7606 - val_loss: 0.0497 - val_acc: 0.7647\n",
      "Epoch 12/40\n",
      "60000/60000 [==============================] - 1s 24us/step - loss: 0.0498 - acc: 0.7631 - val_loss: 0.0488 - val_acc: 0.7681\n",
      "Epoch 13/40\n",
      "60000/60000 [==============================] - 1s 24us/step - loss: 0.0491 - acc: 0.7654 - val_loss: 0.0485 - val_acc: 0.7676\n",
      "Epoch 14/40\n",
      "60000/60000 [==============================] - 1s 24us/step - loss: 0.0486 - acc: 0.7671 - val_loss: 0.0478 - val_acc: 0.7703\n",
      "Epoch 15/40\n",
      "60000/60000 [==============================] - 1s 24us/step - loss: 0.0481 - acc: 0.7685 - val_loss: 0.0475 - val_acc: 0.7717\n",
      "Epoch 16/40\n",
      "60000/60000 [==============================] - 1s 24us/step - loss: 0.0477 - acc: 0.7700 - val_loss: 0.0470 - val_acc: 0.7730\n",
      "Epoch 17/40\n",
      "60000/60000 [==============================] - 1s 25us/step - loss: 0.0474 - acc: 0.7712 - val_loss: 0.0468 - val_acc: 0.7735\n",
      "Epoch 18/40\n",
      "60000/60000 [==============================] - 1s 24us/step - loss: 0.0471 - acc: 0.7722 - val_loss: 0.0466 - val_acc: 0.7742\n",
      "Epoch 19/40\n",
      "60000/60000 [==============================] - 1s 24us/step - loss: 0.0468 - acc: 0.7730 - val_loss: 0.0462 - val_acc: 0.7758\n",
      "Epoch 20/40\n",
      "60000/60000 [==============================] - 1s 24us/step - loss: 0.0466 - acc: 0.7742 - val_loss: 0.0462 - val_acc: 0.7757\n",
      "Epoch 21/40\n",
      "60000/60000 [==============================] - 1s 24us/step - loss: 0.0463 - acc: 0.7749 - val_loss: 0.0460 - val_acc: 0.7763\n",
      "Epoch 22/40\n",
      "60000/60000 [==============================] - 1s 24us/step - loss: 0.0461 - acc: 0.7758 - val_loss: 0.0458 - val_acc: 0.7772\n",
      "Epoch 23/40\n",
      "60000/60000 [==============================] - 1s 24us/step - loss: 0.0459 - acc: 0.7765 - val_loss: 0.0454 - val_acc: 0.7785\n",
      "Epoch 24/40\n",
      "60000/60000 [==============================] - 1s 24us/step - loss: 0.0456 - acc: 0.7779 - val_loss: 0.0453 - val_acc: 0.7791\n",
      "Epoch 25/40\n",
      "60000/60000 [==============================] - 1s 24us/step - loss: 0.0438 - acc: 0.7883 - val_loss: 0.0372 - val_acc: 0.8271\n",
      "Epoch 26/40\n",
      "60000/60000 [==============================] - 1s 24us/step - loss: 0.0344 - acc: 0.8413 - val_loss: 0.0322 - val_acc: 0.8500\n",
      "Epoch 27/40\n",
      "60000/60000 [==============================] - 1s 24us/step - loss: 0.0320 - acc: 0.8518 - val_loss: 0.0311 - val_acc: 0.8542\n",
      "Epoch 28/40\n",
      "60000/60000 [==============================] - 1s 24us/step - loss: 0.0310 - acc: 0.8560 - val_loss: 0.0304 - val_acc: 0.8573\n",
      "Epoch 29/40\n",
      "60000/60000 [==============================] - 1s 24us/step - loss: 0.0304 - acc: 0.8575 - val_loss: 0.0298 - val_acc: 0.8584\n",
      "Epoch 30/40\n",
      "60000/60000 [==============================] - 1s 24us/step - loss: 0.0298 - acc: 0.8596 - val_loss: 0.0293 - val_acc: 0.8614\n",
      "Epoch 31/40\n",
      "60000/60000 [==============================] - 1s 23us/step - loss: 0.0294 - acc: 0.8613 - val_loss: 0.0289 - val_acc: 0.8632\n",
      "Epoch 32/40\n",
      "60000/60000 [==============================] - 1s 24us/step - loss: 0.0290 - acc: 0.8631 - val_loss: 0.0289 - val_acc: 0.8626\n",
      "Epoch 33/40\n",
      "60000/60000 [==============================] - 1s 25us/step - loss: 0.0287 - acc: 0.8642 - val_loss: 0.0283 - val_acc: 0.8655\n",
      "Epoch 34/40\n",
      "60000/60000 [==============================] - 1s 24us/step - loss: 0.0284 - acc: 0.8655 - val_loss: 0.0281 - val_acc: 0.8661\n",
      "Epoch 35/40\n",
      "60000/60000 [==============================] - 1s 24us/step - loss: 0.0281 - acc: 0.8664 - val_loss: 0.0279 - val_acc: 0.8668\n",
      "Epoch 36/40\n",
      "60000/60000 [==============================] - 1s 24us/step - loss: 0.0278 - acc: 0.8675 - val_loss: 0.0276 - val_acc: 0.8681\n",
      "Epoch 37/40\n",
      "60000/60000 [==============================] - 1s 24us/step - loss: 0.0270 - acc: 0.8726 - val_loss: 0.0215 - val_acc: 0.9034\n",
      "Epoch 38/40\n",
      "60000/60000 [==============================] - 1s 23us/step - loss: 0.0154 - acc: 0.9379 - val_loss: 0.0125 - val_acc: 0.9510\n",
      "Epoch 39/40\n",
      "60000/60000 [==============================] - 1s 24us/step - loss: 0.0126 - acc: 0.9497 - val_loss: 0.0113 - val_acc: 0.9554\n",
      "Epoch 40/40\n",
      "60000/60000 [==============================] - 1s 23us/step - loss: 0.0117 - acc: 0.9526 - val_loss: 0.0107 - val_acc: 0.9570\n",
      "('Test loss:', 0.010658709431724856)\n",
      "('Test accuracy:', 0.957)\n"
     ]
    }
   ],
   "source": [
    "NUM_CLASSES = 10\n",
    "model = LeNet(num_classes = NUM_CLASSES)\n",
    "# You can save the model by specifying a path\n",
    "# modelPath = ____\n",
    "# model.save(modelPath)\n",
    "\n",
    "# You can also print out the model by typing\n",
    "model.summary()\n",
    "\n",
    "# train model\n",
    "BATCH_SIZE = 512\n",
    "MAX_EPOCH = 40\n",
    "model.compile(loss='mean_absolute_error', optimizer=sgd, metrics=['accuracy'])\n",
    "histroy=model.fit(x_train, y_train,\n",
    "          batch_size=BATCH_SIZE,\n",
    "          epochs=MAX_EPOCH,\n",
    "          verbose=1,\n",
    "          validation_data=(x_test, y_test))\n",
    "score = model.evaluate(x_test, y_test, verbose=0)\n",
    "print('Test loss:', score[0])\n",
    "print('Test accuracy:', score[1])\n",
    "\n",
    "# You can plot the model into a png file and use it in your report.\n",
    "# pngModelPath = _____\n",
    "# plot(model, to_file=pngModelPath, show_shapes=True)\n"
   ]
  },
  {
   "cell_type": "code",
   "execution_count": 53,
   "metadata": {},
   "outputs": [
    {
     "name": "stdout",
     "output_type": "stream",
     "text": [
      "_________________________________________________________________\n",
      "Layer (type)                 Output Shape              Param #   \n",
      "=================================================================\n",
      "input_12 (InputLayer)        (None, 28, 28, 1)         0         \n",
      "_________________________________________________________________\n",
      "block1_conv1 (Conv2D)        (None, 28, 28, 20)        520       \n",
      "_________________________________________________________________\n",
      "block1_pool (MaxPooling2D)   (None, 14, 14, 20)        0         \n",
      "_________________________________________________________________\n",
      "block2_conv2 (Conv2D)        (None, 14, 14, 50)        25050     \n",
      "_________________________________________________________________\n",
      "block2_pool (MaxPooling2D)   (None, 7, 7, 50)          0         \n",
      "_________________________________________________________________\n",
      "flatten (Flatten)            (None, 2450)              0         \n",
      "_________________________________________________________________\n",
      "fc1 (Dense)                  (None, 500)               1225500   \n",
      "_________________________________________________________________\n",
      "predications (Dense)         (None, 10)                5010      \n",
      "=================================================================\n",
      "Total params: 1,256,080\n",
      "Trainable params: 1,256,080\n",
      "Non-trainable params: 0\n",
      "_________________________________________________________________\n",
      "Train on 60000 samples, validate on 10000 samples\n",
      "Epoch 1/20\n",
      "60000/60000 [==============================] - 2s 40us/step - loss: 2.1560 - acc: 0.3901 - val_loss: 1.7105 - val_acc: 0.6364\n",
      "Epoch 2/20\n",
      "60000/60000 [==============================] - 1s 18us/step - loss: 1.8901 - acc: 0.4935 - val_loss: 1.6757 - val_acc: 0.4227\n",
      "Epoch 3/20\n",
      "60000/60000 [==============================] - 1s 18us/step - loss: 1.2740 - acc: 0.6625 - val_loss: 1.0264 - val_acc: 0.6417\n",
      "Epoch 4/20\n",
      "60000/60000 [==============================] - 1s 18us/step - loss: 1.4900 - acc: 0.5609 - val_loss: 0.9587 - val_acc: 0.7672\n",
      "Epoch 5/20\n",
      "60000/60000 [==============================] - 1s 18us/step - loss: 0.7715 - acc: 0.7951 - val_loss: 1.0954 - val_acc: 0.6721\n",
      "Epoch 6/20\n",
      "60000/60000 [==============================] - 1s 18us/step - loss: 1.0414 - acc: 0.7315 - val_loss: 0.4845 - val_acc: 0.8781\n",
      "Epoch 7/20\n",
      "60000/60000 [==============================] - 1s 18us/step - loss: 0.5279 - acc: 0.8417 - val_loss: 0.7984 - val_acc: 0.7802\n",
      "Epoch 8/20\n",
      "60000/60000 [==============================] - 1s 19us/step - loss: 0.6249 - acc: 0.8273 - val_loss: 0.3530 - val_acc: 0.9095\n",
      "Epoch 9/20\n",
      "60000/60000 [==============================] - 1s 18us/step - loss: 0.3799 - acc: 0.8857 - val_loss: 0.5576 - val_acc: 0.8359\n",
      "Epoch 10/20\n",
      "60000/60000 [==============================] - 1s 18us/step - loss: 0.5166 - acc: 0.8389 - val_loss: 0.3123 - val_acc: 0.9182\n",
      "Epoch 11/20\n",
      "60000/60000 [==============================] - 1s 18us/step - loss: 0.3025 - acc: 0.9161 - val_loss: 0.2598 - val_acc: 0.9264\n",
      "Epoch 12/20\n",
      "60000/60000 [==============================] - 1s 19us/step - loss: 0.2769 - acc: 0.9178 - val_loss: 0.3001 - val_acc: 0.9049\n",
      "Epoch 13/20\n",
      "60000/60000 [==============================] - 1s 18us/step - loss: 0.3832 - acc: 0.8633 - val_loss: 0.3903 - val_acc: 0.8496\n",
      "Epoch 14/20\n",
      "60000/60000 [==============================] - 1s 18us/step - loss: 0.3137 - acc: 0.8973 - val_loss: 0.2158 - val_acc: 0.9414\n",
      "Epoch 15/20\n",
      "60000/60000 [==============================] - 1s 18us/step - loss: 0.2229 - acc: 0.9367 - val_loss: 0.1994 - val_acc: 0.9429\n",
      "Epoch 16/20\n",
      "60000/60000 [==============================] - 1s 18us/step - loss: 0.2082 - acc: 0.9391 - val_loss: 0.1915 - val_acc: 0.9437\n",
      "Epoch 17/20\n",
      "60000/60000 [==============================] - 1s 18us/step - loss: 0.2036 - acc: 0.9389 - val_loss: 0.2041 - val_acc: 0.9385\n",
      "Epoch 18/20\n",
      "60000/60000 [==============================] - 1s 18us/step - loss: 0.2429 - acc: 0.9235 - val_loss: 0.2764 - val_acc: 0.9098\n",
      "Epoch 19/20\n",
      "60000/60000 [==============================] - 1s 18us/step - loss: 0.2750 - acc: 0.9125 - val_loss: 0.1888 - val_acc: 0.9445\n",
      "Epoch 20/20\n",
      "60000/60000 [==============================] - 1s 18us/step - loss: 0.1851 - acc: 0.9461 - val_loss: 0.1587 - val_acc: 0.9538\n",
      "('Test loss:', 0.1587281746774912)\n",
      "('Test accuracy:', 0.9538)\n"
     ]
    }
   ],
   "source": [
    "NUM_CLASSES = 10\n",
    "model = LeNet(num_classes = NUM_CLASSES)\n",
    "model.compile(loss=keras.losses.categorical_crossentropy,\n",
    "              optimizer=keras.optimizers.Adadelta(),\n",
    "              metrics=['accuracy'])\n",
    "# You can save the model by specifying a path\n",
    "# modelPath = ____\n",
    "# model.save(modelPath)\n",
    "\n",
    "# You can also print out the model by typing\n",
    "model.summary()\n",
    "\n",
    "# train model\n",
    "BATCH_SIZE = 20000\n",
    "MAX_EPOCH = 20\n",
    "\n",
    "histroy=model.fit(x_train, y_train,\n",
    "          batch_size=BATCH_SIZE,\n",
    "          epochs=MAX_EPOCH,\n",
    "          verbose=1,\n",
    "          validation_data=(x_test, y_test))\n",
    "score = model.evaluate(x_test, y_test, verbose=0)\n",
    "print('Test loss:', score[0])\n",
    "print('Test accuracy:', score[1])\n",
    "\n",
    "# You can plot the model into a png file and use it in your report.\n",
    "# pngModelPath = _____\n",
    "# plot(model, to_file=pngModelPath, show_shapes=True)"
   ]
  }
 ],
 "metadata": {
  "kernelspec": {
   "display_name": "Python 2",
   "language": "python",
   "name": "python2"
  },
  "language_info": {
   "codemirror_mode": {
    "name": "ipython",
    "version": 3
   },
   "file_extension": ".py",
   "mimetype": "text/x-python",
   "name": "python",
   "nbconvert_exporter": "python",
   "pygments_lexer": "ipython3",
   "version": "3.6.3"
  }
 },
 "nbformat": 4,
 "nbformat_minor": 1
}
