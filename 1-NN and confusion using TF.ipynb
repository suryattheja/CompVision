{
 "cells": [
  {
   "cell_type": "code",
   "execution_count": null,
   "metadata": {
    "collapsed": true
   },
   "outputs": [],
   "source": [
    "from tensorflow.examples.tutorials.mnist import input_data\n",
    "mnist = input_data.read_data_sets(\"/tmp/data/\", one_hot=True)"
   ]
  },
  {
   "cell_type": "code",
   "execution_count": 8,
   "metadata": {
    "collapsed": true
   },
   "outputs": [],
   "source": [
    "Xtr, Ytr = mnist.train.next_batch(60000) #5000 for training (nn candidates)\n",
    "Xte, Yte = mnist.test.next_batch(10000)"
   ]
  },
  {
   "cell_type": "code",
   "execution_count": 9,
   "metadata": {
    "collapsed": true
   },
   "outputs": [],
   "source": [
    "import tensorflow as tf\n",
    "import numpy as np\n",
    "from sklearn import metrics\n"
   ]
  },
  {
   "cell_type": "code",
   "execution_count": 10,
   "metadata": {
    "collapsed": true
   },
   "outputs": [],
   "source": [
    "xtr = tf.placeholder(\"float\", [None, 784],name='TrainMatrix')\n",
    "xte = tf.placeholder(\"float\", [784],name='TestVector')"
   ]
  },
  {
   "cell_type": "code",
   "execution_count": 11,
   "metadata": {
    "collapsed": true
   },
   "outputs": [],
   "source": [
    "#L1 function\n",
    "distanceL1 = tf.reduce_sum(tf.abs(tf.add(xtr, tf.negative(xte))), reduction_indices=1)\n",
    "\n",
    "\n",
    "#L2 function\n",
    "distanceL2 = tf.reduce_sum(tf.square(tf.add(xtr, tf.negative(xte))), reduction_indices=1)\n"
   ]
  },
  {
   "cell_type": "markdown",
   "metadata": {},
   "source": [
    "<b>Change distanceL1 to distanceL2 accordingly</b>"
   ]
  },
  {
   "cell_type": "code",
   "execution_count": 13,
   "metadata": {
    "collapsed": true
   },
   "outputs": [],
   "source": [
    "init = tf.global_variables_initializer()\n",
    "\n",
    "with tf.Session() as sess:\n",
    "    preds=[]\n",
    "    sess.run(init)\n",
    "    for i in xrange(len(Yte)):\n",
    "        distAll = sess.run(distanceL1, feed_dict={xtr: Xtr, xte: Xte[i, :]})\n",
    "        prediction=Ytr[distAll.argmin()]\n",
    "        preds.append(prediction)"
   ]
  },
  {
   "cell_type": "code",
   "execution_count": 34,
   "metadata": {
    "collapsed": true
   },
   "outputs": [],
   "source": [
    "def getAccu(preds,Yte):\n",
    "    correct_preds=0\n",
    "    for i in range(len(preds)):\n",
    "        if(preds[i].nonzero()[0][0]==Yte[i].nonzero()[0][0]):\n",
    "            #print(1)\n",
    "            correct_preds+=1\n",
    "    return((correct_preds*1.0)/len(preds)*100)"
   ]
  },
  {
   "cell_type": "code",
   "execution_count": 35,
   "metadata": {},
   "outputs": [
    {
     "data": {
      "text/plain": [
       "96.77"
      ]
     },
     "execution_count": 35,
     "metadata": {},
     "output_type": "execute_result"
    }
   ],
   "source": [
    "getAccu(preds,Yte)"
   ]
  },
  {
   "cell_type": "markdown",
   "metadata": {},
   "source": [
    "<b>Confusion Matrix and Report for L2 distance</b>"
   ]
  },
  {
   "cell_type": "code",
   "execution_count": 8,
   "metadata": {},
   "outputs": [
    {
     "name": "stdout",
     "output_type": "stream",
     "text": [
      "Accuracy achieved with L1 distance is 96.54%\n"
     ]
    }
   ],
   "source": [
    "print(\"Accuracy achieved with L1 distance is 96.54%\")"
   ]
  },
  {
   "cell_type": "code",
   "execution_count": 6,
   "metadata": {},
   "outputs": [
    {
     "name": "stdout",
     "output_type": "stream",
     "text": [
      "Accuracy achieved with L2 distance is 96.77%\n"
     ]
    }
   ],
   "source": [
    "print(\"Accuracy achieved with L2 distance is 96.77%\")"
   ]
  },
  {
   "cell_type": "code",
   "execution_count": 47,
   "metadata": {},
   "outputs": [
    {
     "data": {
      "text/plain": [
       "array([[ 973,    1,    1,    0,    0,    1,    3,    1,    0,    0],\n",
       "       [   0, 1129,    3,    0,    1,    1,    1,    0,    0,    0],\n",
       "       [   8,    6,  990,    5,    1,    0,    3,   16,    3,    0],\n",
       "       [   0,    1,    2,  969,    1,   19,    0,    7,    8,    3],\n",
       "       [   0,    7,    0,    0,  940,    0,    4,    5,    1,   25],\n",
       "       [   1,    1,    0,   12,    2,  860,    5,    1,    5,    5],\n",
       "       [   4,    3,    0,    0,    3,    5,  943,    0,    0,    0],\n",
       "       [   0,   14,    6,    2,    5,    0,    0,  990,    0,   11],\n",
       "       [   5,    1,    3,   16,    5,   14,    3,    4,  918,    5],\n",
       "       [   2,    5,    1,    6,   10,    5,    1,   13,    1,  965]])"
      ]
     },
     "execution_count": 47,
     "metadata": {},
     "output_type": "execute_result"
    }
   ],
   "source": [
    "predictioins_index=[i.nonzero()[0][0] for i in preds]\n",
    "true_index=[i.nonzero()[0][0] for i in Yte]\n",
    "metrics.confusion_matrix(true_index,predictioins_index,[i for i in range(0,10)])"
   ]
  },
  {
   "cell_type": "code",
   "execution_count": 5,
   "metadata": {
    "collapsed": true
   },
   "outputs": [],
   "source": [
    "import numpy as np\n",
    "from matplotlib import pyplot"
   ]
  },
  {
   "cell_type": "code",
   "execution_count": 4,
   "metadata": {
    "collapsed": true
   },
   "outputs": [],
   "source": [
    "# cm=np.array([[ 973,    1,    1,    0,    0,    1,    3,    1,    0,    0],\n",
    "#        [   0, 1129,    3,    0,    1,    1,    1,    0,    0,    0],\n",
    "#        [   8,    6,  990,    5,    1,    0,    3,   16,    3,    0],\n",
    "#        [   0,    1,    2,  969,    1,   19,    0,    7,    8,    3],\n",
    "#        [   0,    7,    0,    0,  940,    0,    4,    5,    1,   25],\n",
    "#        [   1,    1,    0,   12,    2,  860,    5,    1,    5,    5],\n",
    "#        [   4,    3,    0,    0,    3,    5,  943,    0,    0,    0],\n",
    "#        [   0,   14,    6,    2,    5,    0,    0,  990,    0,   11],\n",
    "#        [   5,    1,    3,   16,    5,   14,    3,    4,  918,    5],\n",
    "#        [   2,    5,    1,    6,   10,    5,    1,   13,    1,  965]])"
   ]
  },
  {
   "cell_type": "code",
   "execution_count": 6,
   "metadata": {
    "collapsed": true
   },
   "outputs": [],
   "source": [
    "% matplotlib inline\n",
    "from matplotlib import pyplot as plt\n",
    "import itertools\n",
    "import numpy as np\n",
    "def plot_confusion_matrix(cm, classes,\n",
    "                          normalize=False,\n",
    "                          title='Confusion matrix',\n",
    "                          cmap=plt.cm.Blues):\n",
    "    \"\"\"\n",
    "    This function prints and plots the confusion matrix.\n",
    "    Normalization can be applied by setting `normalize=True`.\n",
    "    \"\"\"\n",
    "    if normalize:\n",
    "        cm = cm.astype('float') / cm.sum(axis=1)[:, np.newaxis]\n",
    "        print(\"Normalized confusion matrix\")\n",
    "    else:\n",
    "        print('Confusion matrix, without normalization')\n",
    "\n",
    "    print(cm)\n",
    "\n",
    "    plt.imshow(cm, interpolation='nearest', cmap=cmap)\n",
    "    plt.title(title)\n",
    "    plt.colorbar()\n",
    "    tick_marks = np.arange(len(classes))\n",
    "    plt.xticks(tick_marks, classes, rotation=45)\n",
    "    plt.yticks(tick_marks, classes)\n",
    "\n",
    "    fmt = '.2f' if normalize else 'd'\n",
    "    thresh = cm.max() / 2.\n",
    "    for i, j in itertools.product(range(cm.shape[0]), range(cm.shape[1])):\n",
    "        plt.text(j, i, format(cm[i, j], fmt),\n",
    "                 horizontalalignment=\"center\",\n",
    "                 color=\"white\" if cm[i, j] > thresh else \"black\")\n",
    "\n",
    "    plt.tight_layout()\n",
    "    plt.ylabel('True label')\n",
    "    plt.xlabel('Predicted label')"
   ]
  },
  {
   "cell_type": "code",
   "execution_count": 7,
   "metadata": {},
   "outputs": [
    {
     "name": "stdout",
     "output_type": "stream",
     "text": [
      "Confusion matrix, without normalization\n",
      "[[ 973    1    1    0    0    1    3    1    0    0]\n",
      " [   0 1129    3    0    1    1    1    0    0    0]\n",
      " [   8    6  990    5    1    0    3   16    3    0]\n",
      " [   0    1    2  969    1   19    0    7    8    3]\n",
      " [   0    7    0    0  940    0    4    5    1   25]\n",
      " [   1    1    0   12    2  860    5    1    5    5]\n",
      " [   4    3    0    0    3    5  943    0    0    0]\n",
      " [   0   14    6    2    5    0    0  990    0   11]\n",
      " [   5    1    3   16    5   14    3    4  918    5]\n",
      " [   2    5    1    6   10    5    1   13    1  965]]\n"
     ]
    },
    {
     "data": {
      "image/png": "[encoded data removed]",
      "text/plain": [
       "<Figure size 432x288 with 2 Axes>"
      ]
     },
     "metadata": {},
     "output_type": "display_data"
    }
   ],
   "source": [
    "plot_confusion_matrix(cm,[i for i in range(10)])"
   ]
  }
 ],
 "metadata": {
  "kernelspec": {
   "display_name": "Python 2",
   "language": "python",
   "name": "python2"
  },
  "language_info": {
   "codemirror_mode": {
    "name": "ipython",
    "version": 3
   },
   "file_extension": ".py",
   "mimetype": "text/x-python",
   "name": "python",
   "nbconvert_exporter": "python",
   "pygments_lexer": "ipython3",
   "version": "3.6.3"
  }
 },
 "nbformat": 4,
 "nbformat_minor": 2
}
